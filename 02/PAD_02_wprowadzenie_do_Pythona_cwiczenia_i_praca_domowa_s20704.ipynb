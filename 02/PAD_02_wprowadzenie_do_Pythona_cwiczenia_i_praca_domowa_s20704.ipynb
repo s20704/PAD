{
  "cells": [
    {
      "cell_type": "markdown",
      "metadata": {
        "id": "YBf77-O2VMaK"
      },
      "source": [
        "## iterator"
      ]
    },
    {
      "cell_type": "code",
      "execution_count": null,
      "metadata": {
        "id": "MobBtdWEVEu1",
        "outputId": "b8352b56-4e74-47f3-e7b4-484feae40f73",
        "colab": {
          "base_uri": "https://localhost:8080/",
          "height": 89
        }
      },
      "outputs": [
        {
          "output_type": "execute_result",
          "data": {
            "text/plain": [
              "'\\nZadanie 1\\nZaimplementuj własny iterator o nazwie tetranacci, zwracający kolejne liczby ciągu Tetranacciego.\\nFunkcja __init__ powinna posiadać parametr o nazwie steps określający liczbę wyrazów ciągu,\\npo których funkcja __next__ rzuca wyjątek StopIteration.\\nNapisz program, w którym wykorzystasz swój iterator do wypisania na ekranie kolejnych wyrazów tego ciągu.\\nNiech liczbę wyrazów do wypisania podaje użytkownik.\\n\\n'"
            ],
            "application/vnd.google.colaboratory.intrinsic+json": {
              "type": "string"
            }
          },
          "metadata": {},
          "execution_count": 1
        }
      ],
      "source": [
        "'''\n",
        "Zadanie 1\n",
        "Zaimplementuj własny iterator o nazwie tetranacci, zwracający kolejne liczby ciągu Tetranacciego.\n",
        "Funkcja __init__ powinna posiadać parametr o nazwie steps określający liczbę wyrazów ciągu,\n",
        "po których funkcja __next__ rzuca wyjątek StopIteration.\n",
        "Napisz program, w którym wykorzystasz swój iterator do wypisania na ekranie kolejnych wyrazów tego ciągu.\n",
        "Niech liczbę wyrazów do wypisania podaje użytkownik.\n",
        "\n",
        "'''"
      ]
    },
    {
      "cell_type": "code",
      "execution_count": null,
      "metadata": {
        "id": "V6vLv0OHaS8e"
      },
      "outputs": [],
      "source": [
        "class Tetranacci:\n",
        "    def __init__(self, steps):\n",
        "        self.steps = steps\n",
        "        self.counter = 0\n",
        "        self.values = [0, 0, 0, 1]\n",
        "\n",
        "    def __iter__(self):\n",
        "        return self\n",
        "\n",
        "    def __next__(self):\n",
        "        if self.counter < self.steps:\n",
        "            self.counter += 1\n",
        "            if self.counter <= 4:\n",
        "                return self.values[self.counter-1]\n",
        "            else:\n",
        "                next_value = sum(self.values)\n",
        "                self.values = self.values[1:] + [next_value]\n",
        "                return next_value\n",
        "        else:\n",
        "            raise StopIteration"
      ]
    },
    {
      "cell_type": "code",
      "execution_count": null,
      "metadata": {
        "id": "xGAbKtF4aS8e",
        "outputId": "8c865cca-8785-47ca-e0f7-25c38f298151",
        "colab": {
          "base_uri": "https://localhost:8080/"
        }
      },
      "outputs": [
        {
          "output_type": "stream",
          "name": "stdout",
          "text": [
            "0\n",
            "0\n",
            "0\n",
            "1\n",
            "1\n",
            "2\n",
            "4\n",
            "8\n",
            "15\n",
            "29\n"
          ]
        }
      ],
      "source": [
        "steps = 10\n",
        "tet = Tetranacci(steps)\n",
        "\n",
        "# print(next(tet))\n",
        "for val in tet:\n",
        "    print(val)"
      ]
    },
    {
      "cell_type": "code",
      "execution_count": null,
      "metadata": {
        "id": "oExrQiNxaS8e",
        "outputId": "fa7a9bf1-ed15-4b75-bf1f-de61a664c5e9",
        "colab": {
          "base_uri": "https://localhost:8080/",
          "height": 268
        }
      },
      "outputs": [
        {
          "output_type": "error",
          "ename": "StopIteration",
          "evalue": "ignored",
          "traceback": [
            "\u001b[0;31m---------------------------------------------------------------------------\u001b[0m",
            "\u001b[0;31mStopIteration\u001b[0m                             Traceback (most recent call last)",
            "\u001b[0;32m<ipython-input-4-b4291b00a32c>\u001b[0m in \u001b[0;36m<cell line: 1>\u001b[0;34m()\u001b[0m\n\u001b[0;32m----> 1\u001b[0;31m \u001b[0mprint\u001b[0m\u001b[0;34m(\u001b[0m\u001b[0mnext\u001b[0m\u001b[0;34m(\u001b[0m\u001b[0mtet\u001b[0m\u001b[0;34m)\u001b[0m\u001b[0;34m)\u001b[0m\u001b[0;34m\u001b[0m\u001b[0;34m\u001b[0m\u001b[0m\n\u001b[0m",
            "\u001b[0;32m<ipython-input-2-4a5c09b431e5>\u001b[0m in \u001b[0;36m__next__\u001b[0;34m(self)\u001b[0m\n\u001b[1;32m     18\u001b[0m                 \u001b[0;32mreturn\u001b[0m \u001b[0mnext_value\u001b[0m\u001b[0;34m\u001b[0m\u001b[0;34m\u001b[0m\u001b[0m\n\u001b[1;32m     19\u001b[0m         \u001b[0;32melse\u001b[0m\u001b[0;34m:\u001b[0m\u001b[0;34m\u001b[0m\u001b[0;34m\u001b[0m\u001b[0m\n\u001b[0;32m---> 20\u001b[0;31m             \u001b[0;32mraise\u001b[0m \u001b[0mStopIteration\u001b[0m\u001b[0;34m\u001b[0m\u001b[0;34m\u001b[0m\u001b[0m\n\u001b[0m",
            "\u001b[0;31mStopIteration\u001b[0m: "
          ]
        }
      ],
      "source": [
        "print(next(tet))"
      ]
    },
    {
      "cell_type": "markdown",
      "metadata": {
        "id": "HgA0kNjTVXwG"
      },
      "source": [
        "## generator"
      ]
    },
    {
      "cell_type": "code",
      "execution_count": null,
      "metadata": {
        "id": "hl3BhofyVdoH",
        "colab": {
          "base_uri": "https://localhost:8080/",
          "height": 53
        },
        "outputId": "f92c1ef0-6c33-4cc8-fb28-f3f04eacca04"
      },
      "outputs": [
        {
          "output_type": "execute_result",
          "data": {
            "text/plain": [
              "'\\nZadanie 2\\nZaimplementuj własny generator o nazwie accumulate,\\nzwracający kolejne sumy elementów z podanego obiektu iterowalnego.\\n'"
            ],
            "application/vnd.google.colaboratory.intrinsic+json": {
              "type": "string"
            }
          },
          "metadata": {},
          "execution_count": 5
        }
      ],
      "source": [
        "'''\n",
        "Zadanie 2\n",
        "Zaimplementuj własny generator o nazwie accumulate,\n",
        "zwracający kolejne sumy elementów z podanego obiektu iterowalnego.\n",
        "'''"
      ]
    },
    {
      "cell_type": "code",
      "execution_count": null,
      "metadata": {
        "id": "-Pchp36KaS8f"
      },
      "outputs": [],
      "source": [
        "def accumulate(iterable_object):\n",
        "    total = 0\n",
        "    for val in iterable_object:\n",
        "        total += val\n",
        "        yield total"
      ]
    },
    {
      "cell_type": "code",
      "execution_count": null,
      "metadata": {
        "id": "1rNN2FaQaS8f"
      },
      "outputs": [],
      "source": [
        "it_ob = [1, 2, 3, 4, 5]\n",
        "gen = accumulate(it_ob)"
      ]
    },
    {
      "cell_type": "code",
      "execution_count": null,
      "metadata": {
        "id": "-C8D1bE6aS8f",
        "outputId": "936f2a3f-7681-4e58-cd4a-392273fdc524",
        "colab": {
          "base_uri": "https://localhost:8080/"
        }
      },
      "outputs": [
        {
          "output_type": "stream",
          "name": "stdout",
          "text": [
            "1\n"
          ]
        }
      ],
      "source": [
        "print(next(gen))"
      ]
    },
    {
      "cell_type": "code",
      "execution_count": null,
      "metadata": {
        "id": "G8KZZiTnaS8f",
        "outputId": "e7d00668-db46-4110-854f-8821d1933ef0",
        "colab": {
          "base_uri": "https://localhost:8080/"
        }
      },
      "outputs": [
        {
          "output_type": "stream",
          "name": "stdout",
          "text": [
            "1\n",
            "3\n",
            "6\n",
            "10\n",
            "15\n"
          ]
        }
      ],
      "source": [
        "it_ob = [1, 2, 3, 4, 5]\n",
        "for val in accumulate(it_ob):\n",
        "    print(val)"
      ]
    },
    {
      "cell_type": "code",
      "execution_count": null,
      "metadata": {
        "id": "ffhbiOTJVnmB",
        "colab": {
          "base_uri": "https://localhost:8080/",
          "height": 53
        },
        "outputId": "1d21af1a-f6ff-4ad3-adb3-be439a76f3a3"
      },
      "outputs": [
        {
          "output_type": "execute_result",
          "data": {
            "text/plain": [
              "'\\nZadanie 3\\n\\nNapisz własny dekorator o nazwie hello. Wynikiem jego działania powinno być:\\n• wypisanie na ekranie napisu hello\\n• wywołanie funkcji przekazanej jako argument.\\n'"
            ],
            "application/vnd.google.colaboratory.intrinsic+json": {
              "type": "string"
            }
          },
          "metadata": {},
          "execution_count": 10
        }
      ],
      "source": [
        "'''\n",
        "Zadanie 3\n",
        "\n",
        "Napisz własny dekorator o nazwie hello. Wynikiem jego działania powinno być:\n",
        "• wypisanie na ekranie napisu hello\n",
        "• wywołanie funkcji przekazanej jako argument.\n",
        "'''"
      ]
    },
    {
      "cell_type": "code",
      "execution_count": null,
      "metadata": {
        "id": "1-j2OFq-aS8f",
        "outputId": "f1bc91f3-6bc1-444b-e059-76f040cc04b6",
        "colab": {
          "base_uri": "https://localhost:8080/"
        }
      },
      "outputs": [
        {
          "output_type": "stream",
          "name": "stdout",
          "text": [
            "Hello!\n",
            "Nice to meet you Dominika\n"
          ]
        }
      ],
      "source": [
        "def hello(func):\n",
        "    def wrapper(*args, **kwargs):\n",
        "        print(\"Hello!\")\n",
        "        return func(*args, **kwargs)\n",
        "    return wrapper\n",
        "\n",
        "@hello\n",
        "def greet(name):\n",
        "    print(f\"Nice to meet you {name}\")\n",
        "\n",
        "greet(\"Dominika\")"
      ]
    },
    {
      "cell_type": "code",
      "execution_count": null,
      "metadata": {
        "id": "qHr7J9ZoaS8f",
        "outputId": "a4a15211-c4f9-4d86-ee29-1d1d32dc0306",
        "colab": {
          "base_uri": "https://localhost:8080/"
        }
      },
      "outputs": [
        {
          "output_type": "stream",
          "name": "stdout",
          "text": [
            "[1, 2, 3, 1, 2]\n"
          ]
        }
      ],
      "source": [
        "moja_lista1 = [1,2,3]\n",
        "moja_krotka = (1,2)\n",
        "print([*moja_lista1, *moja_krotka])"
      ]
    },
    {
      "cell_type": "code",
      "execution_count": null,
      "metadata": {
        "id": "NjZRSS6sVrm5",
        "colab": {
          "base_uri": "https://localhost:8080/",
          "height": 53
        },
        "outputId": "6495b791-53ee-46b0-a357-c50cfc9d38fe"
      },
      "outputs": [
        {
          "output_type": "execute_result",
          "data": {
            "text/plain": [
              "'\\nZadanie 4\\nZaimplementuj własną funkcję o nazwie tetranacci, zwracający określony element ciągu Tetranacciego.\\nFunkcja powinna posiadać parametr o nazwie n określający numer wyrazu ciągu do obliczenia.\\nObliczenia wykonuj rekurencyjnie.\\n'"
            ],
            "application/vnd.google.colaboratory.intrinsic+json": {
              "type": "string"
            }
          },
          "metadata": {},
          "execution_count": 14
        }
      ],
      "source": [
        "'''\n",
        "Zadanie 4\n",
        "Zaimplementuj własną funkcję o nazwie tetranacci, zwracający określony element ciągu Tetranacciego.\n",
        "Funkcja powinna posiadać parametr o nazwie n określający numer wyrazu ciągu do obliczenia.\n",
        "Obliczenia wykonuj rekurencyjnie.\n",
        "'''"
      ]
    },
    {
      "cell_type": "code",
      "execution_count": null,
      "metadata": {
        "id": "jKkdtR7caS8f",
        "outputId": "544e16d4-54bf-4f33-967d-ec954740e80f",
        "colab": {
          "base_uri": "https://localhost:8080/"
        }
      },
      "outputs": [
        {
          "output_type": "stream",
          "name": "stdout",
          "text": [
            "4\n"
          ]
        }
      ],
      "source": [
        "def tetranacci(n):\n",
        "    if n == 1 or n == 2 or n == 3:\n",
        "        return 0\n",
        "    elif n == 4:\n",
        "        return 1\n",
        "    else:\n",
        "        return tetranacci(n -1) + tetranacci(n - 2) + tetranacci(n - 3) + tetranacci(n - 4)\n",
        "\n",
        "print(tetranacci(7))"
      ]
    },
    {
      "cell_type": "markdown",
      "metadata": {
        "id": "eDFgAg3cWRAk"
      },
      "source": [
        "## klasy"
      ]
    },
    {
      "cell_type": "code",
      "execution_count": null,
      "metadata": {
        "id": "LMrKGhhSWMM8",
        "colab": {
          "base_uri": "https://localhost:8080/",
          "height": 53
        },
        "outputId": "5233cf92-8fc5-43f0-99fc-9c6e0be692c9"
      },
      "outputs": [
        {
          "output_type": "execute_result",
          "data": {
            "text/plain": [
              "'\\nZadanie 5\\nStwórz klasę Pojazd z atrybutami predkosc_max i przebieg\\nstwórz instancję klasy i wydrukuj jej atrybuty do konsoli\\ntworzac instancję możesz podać dowolne wielkości\\n'"
            ],
            "application/vnd.google.colaboratory.intrinsic+json": {
              "type": "string"
            }
          },
          "metadata": {},
          "execution_count": 15
        }
      ],
      "source": [
        "'''\n",
        "Zadanie 5\n",
        "Stwórz klasę Pojazd z atrybutami predkosc_max i przebieg\n",
        "stwórz instancję klasy i wydrukuj jej atrybuty do konsoli\n",
        "tworzac instancję możesz podać dowolne wielkości\n",
        "'''"
      ]
    },
    {
      "cell_type": "code",
      "execution_count": null,
      "metadata": {
        "id": "nYlp6wOmaS8g",
        "outputId": "8b61a90c-1e19-423e-a087-7dd9cf1775a6",
        "colab": {
          "base_uri": "https://localhost:8080/"
        }
      },
      "outputs": [
        {
          "output_type": "stream",
          "name": "stdout",
          "text": [
            "240\n",
            "400\n"
          ]
        }
      ],
      "source": [
        "class Pojazd:\n",
        "    def __init__(self, predkosc_max, przebieg, model):\n",
        "        self.przebieg = przebieg\n",
        "        self.predkosc_max = predkosc_max\n",
        "        self.model = model\n",
        "\n",
        "pojazd = Pojazd(240, 400, \"model pojazdu\")\n",
        "print(pojazd.predkosc_max)\n",
        "print(pojazd.przebieg)"
      ]
    },
    {
      "cell_type": "code",
      "execution_count": null,
      "metadata": {
        "id": "z_dYT1f5Wexv",
        "colab": {
          "base_uri": "https://localhost:8080/",
          "height": 53
        },
        "outputId": "7522f3a3-1f00-4f92-e9c9-2db6b1ac0e2c"
      },
      "outputs": [
        {
          "output_type": "execute_result",
          "data": {
            "text/plain": [
              "'\\nZadanie 6\\nStwórz klasę Autobus, która dziedziczy po Pojeździe utworzonym wcześniej,\\nale do atrybutów Pojazdu dodaj jeszcze nazwę modelu\\nstwórz instancję klasy i wydrukuj jej atrybuty\\n'"
            ],
            "application/vnd.google.colaboratory.intrinsic+json": {
              "type": "string"
            }
          },
          "metadata": {},
          "execution_count": 17
        }
      ],
      "source": [
        "'''\n",
        "Zadanie 6\n",
        "Stwórz klasę Autobus, która dziedziczy po Pojeździe utworzonym wcześniej,\n",
        "ale do atrybutów Pojazdu dodaj jeszcze nazwę modelu\n",
        "stwórz instancję klasy i wydrukuj jej atrybuty\n",
        "'''"
      ]
    },
    {
      "cell_type": "code",
      "execution_count": null,
      "metadata": {
        "id": "d7UpznHRaS8g",
        "outputId": "875bf105-91b6-43c2-e1d1-9b4aa61c9094",
        "colab": {
          "base_uri": "https://localhost:8080/"
        }
      },
      "outputs": [
        {
          "output_type": "stream",
          "name": "stdout",
          "text": [
            "Autobus xyz\n"
          ]
        }
      ],
      "source": [
        "class Autobus(Pojazd):\n",
        "    pass\n",
        "\n",
        "autobus = Autobus(300, 400, \"Autobus xyz\")\n",
        "print(autobus.model)"
      ]
    },
    {
      "cell_type": "code",
      "execution_count": null,
      "metadata": {
        "id": "CDj9cBQoWj-v",
        "colab": {
          "base_uri": "https://localhost:8080/",
          "height": 71
        },
        "outputId": "c0b87662-b4b6-4ea9-9570-b52789e9b546"
      },
      "outputs": [
        {
          "output_type": "execute_result",
          "data": {
            "text/plain": [
              "'\\nZadanie 7\\nklasie Pojazd utwórz metodę liczba_miejsc, która będzie przyjmowała jako argument liczbę miejsc i wyświetlała komunikat:\\n\"{TU WSTAWIMY NAZWE POJAZDU} pomieści {LICZBA MIEJSC} osób.\"\\nKlasa Autobus ma też dziedziczyć tę metodę, ale dodatkowo przyjmować wartość domyślną dla liczby miejsc = 50\\nUtwórz instancję klasy aby zaprezentować działanie\\n'"
            ],
            "application/vnd.google.colaboratory.intrinsic+json": {
              "type": "string"
            }
          },
          "metadata": {},
          "execution_count": 19
        }
      ],
      "source": [
        "'''\n",
        "Zadanie 7\n",
        "klasie Pojazd utwórz metodę liczba_miejsc, która będzie przyjmowała jako argument liczbę miejsc i wyświetlała komunikat:\n",
        "\"{TU WSTAWIMY NAZWE POJAZDU} pomieści {LICZBA MIEJSC} osób.\"\n",
        "Klasa Autobus ma też dziedziczyć tę metodę, ale dodatkowo przyjmować wartość domyślną dla liczby miejsc = 50\n",
        "Utwórz instancję klasy aby zaprezentować działanie\n",
        "'''"
      ]
    },
    {
      "cell_type": "code",
      "execution_count": null,
      "metadata": {
        "id": "DRbXeEAKaS8g",
        "outputId": "6b114610-0714-45b3-ae0b-c88f3d04c31b",
        "colab": {
          "base_uri": "https://localhost:8080/",
          "height": 268
        }
      },
      "outputs": [
        {
          "output_type": "stream",
          "name": "stdout",
          "text": [
            "Autobus pomieści 20 osób.\n",
            "Autobus pomieści 50 osób.\n",
            "Pojazd pomieści 20 osób.\n"
          ]
        },
        {
          "output_type": "error",
          "ename": "TypeError",
          "evalue": "ignored",
          "traceback": [
            "\u001b[0;31m---------------------------------------------------------------------------\u001b[0m",
            "\u001b[0;31mTypeError\u001b[0m                                 Traceback (most recent call last)",
            "\u001b[0;32m<ipython-input-20-cf32aba84d1d>\u001b[0m in \u001b[0;36m<cell line: 21>\u001b[0;34m()\u001b[0m\n\u001b[1;32m     19\u001b[0m \u001b[0mprint\u001b[0m\u001b[0;34m(\u001b[0m\u001b[0mautobus\u001b[0m\u001b[0;34m.\u001b[0m\u001b[0mliczba_miejsc\u001b[0m\u001b[0;34m(\u001b[0m\u001b[0;34m)\u001b[0m\u001b[0;34m)\u001b[0m\u001b[0;34m\u001b[0m\u001b[0;34m\u001b[0m\u001b[0m\n\u001b[1;32m     20\u001b[0m \u001b[0mprint\u001b[0m\u001b[0;34m(\u001b[0m\u001b[0mpojazd\u001b[0m\u001b[0;34m.\u001b[0m\u001b[0mliczba_miejsc\u001b[0m\u001b[0;34m(\u001b[0m\u001b[0;36m20\u001b[0m\u001b[0;34m)\u001b[0m\u001b[0;34m)\u001b[0m\u001b[0;34m\u001b[0m\u001b[0;34m\u001b[0m\u001b[0m\n\u001b[0;32m---> 21\u001b[0;31m \u001b[0mprint\u001b[0m\u001b[0;34m(\u001b[0m\u001b[0mpojazd\u001b[0m\u001b[0;34m.\u001b[0m\u001b[0mliczba_miejsc\u001b[0m\u001b[0;34m(\u001b[0m\u001b[0;34m)\u001b[0m\u001b[0;34m)\u001b[0m\u001b[0;34m\u001b[0m\u001b[0;34m\u001b[0m\u001b[0m\n\u001b[0m",
            "\u001b[0;31mTypeError\u001b[0m: Pojazd.liczba_miejsc() missing 1 required positional argument: 'miejsca'"
          ]
        }
      ],
      "source": [
        "class Pojazd:\n",
        "    def __init__(self, predkosc_max, przebieg, model):\n",
        "        self.przebieg = przebieg\n",
        "        self.predkosc_max = predkosc_max\n",
        "        self.model = model\n",
        "\n",
        "    def liczba_miejsc(self, miejsca):\n",
        "        return f\"{self.model} pomieści {miejsca} osób.\"\n",
        "\n",
        "\n",
        "class Autobus(Pojazd):\n",
        "    def liczba_miejsc(self, miejsca=50):\n",
        "        return super().liczba_miejsc(miejsca)\n",
        "\n",
        "pojazd = Pojazd(10,12, \"Pojazd\")\n",
        "autobus = Autobus(30, 40, \"Autobus\")\n",
        "\n",
        "print(autobus.liczba_miejsc(20))\n",
        "print(autobus.liczba_miejsc())\n",
        "print(pojazd.liczba_miejsc(20))\n",
        "print(pojazd.liczba_miejsc())"
      ]
    },
    {
      "cell_type": "code",
      "execution_count": null,
      "metadata": {
        "id": "y2s80EMmWrKP",
        "outputId": "24df4541-f920-43ef-d294-4e59301a774d",
        "colab": {
          "base_uri": "https://localhost:8080/"
        }
      },
      "outputs": [
        {
          "output_type": "stream",
          "name": "stdout",
          "text": [
            "True\n",
            "False\n",
            "True\n",
            "True\n"
          ]
        }
      ],
      "source": [
        "'''\n",
        "Zadanie 8\n",
        "Sprawdź czy obiekt autobus jest instancją klasy Pojazd\n",
        "'''\n",
        "print(isinstance(autobus, Pojazd))\n",
        "print(isinstance(pojazd, Autobus))\n",
        "print(isinstance(autobus, Autobus))\n",
        "print(isinstance(pojazd, Pojazd))"
      ]
    },
    {
      "cell_type": "markdown",
      "metadata": {
        "id": "jjNBmv7pVwP_"
      },
      "source": [
        "## PRACA DOMOWA (15 pkt)"
      ]
    },
    {
      "cell_type": "code",
      "execution_count": null,
      "metadata": {
        "id": "TTUMq_uuVx32",
        "colab": {
          "base_uri": "https://localhost:8080/",
          "height": 53
        },
        "outputId": "0c5bc49b-5a9e-40f8-a92b-85ff2d3de4f3"
      },
      "outputs": [
        {
          "output_type": "execute_result",
          "data": {
            "text/plain": [
              "'\\nZadanie 1 (4 pkt)\\nWykorzystując dekoratory, napisz cache dla funkcji tetranacci z poprzedniego zadania.\\nTen dekorator powinien zapobiegać przed ponownym obliczaniem tych samych wartości.\\n'"
            ],
            "application/vnd.google.colaboratory.intrinsic+json": {
              "type": "string"
            }
          },
          "metadata": {},
          "execution_count": 22
        }
      ],
      "source": [
        "'''\n",
        "Zadanie 1 (4 pkt)\n",
        "Wykorzystując dekoratory, napisz cache dla funkcji tetranacci z poprzedniego zadania.\n",
        "Ten dekorator powinien zapobiegać przed ponownym obliczaniem tych samych wartości.\n",
        "'''"
      ]
    },
    {
      "cell_type": "code",
      "source": [
        "def cache(func):\n",
        "    cache = {}\n",
        "    def wrapper(i):\n",
        "        if i not in cache:\n",
        "            cache[i] = func(i)\n",
        "        return cache[i]\n",
        "    return wrapper\n",
        "\n",
        "@cache\n",
        "def tetranacci(n):\n",
        "    if n == 1 or n == 2 or n == 3:\n",
        "        return 0\n",
        "    elif n == 4:\n",
        "        return 1\n",
        "    else:\n",
        "        return tetranacci(n-1) + tetranacci(n-2) + tetranacci(n-3) + tetranacci(n-4)\n",
        "\n",
        "print(tetranacci(4))\n",
        "print(tetranacci(7))\n",
        "print(tetranacci(9))\n",
        "print(tetranacci(10))\n",
        "print(tetranacci(11))"
      ],
      "metadata": {
        "colab": {
          "base_uri": "https://localhost:8080/"
        },
        "id": "o_jkjl9KuAM9",
        "outputId": "d73d0c94-bfd6-45e3-c845-e246e34462eb"
      },
      "execution_count": 4,
      "outputs": [
        {
          "output_type": "stream",
          "name": "stdout",
          "text": [
            "1\n",
            "4\n",
            "15\n",
            "29\n",
            "56\n"
          ]
        }
      ]
    },
    {
      "cell_type": "code",
      "execution_count": null,
      "metadata": {
        "id": "Q_Ur2Z9uWF-l",
        "colab": {
          "base_uri": "https://localhost:8080/",
          "height": 89
        },
        "outputId": "24f1c16c-9e4c-4f5f-c64a-2cfc6cea9ee1"
      },
      "outputs": [
        {
          "output_type": "execute_result",
          "data": {
            "text/plain": [
              "'\\nZadanie 2 (4 pkt)\\nZaimplementuj własny generator o nazwie repeat, zwracający obiekt podany przez użytkownika dokładnie N razy.\\nJeśli wartość parametru N nie została określona, generator powinien zwracać wartości w nieskończoność.\\n\\nPRZYKŁAD\\nrepeat(10, 3) → 10 10 10\\nrepeat(10, 5) → 10 10 10 10 10\\nrepeat(5) → 5 5 5 5 5 5 5 5 5 5 5 5 5 5 5…\\nrepeat(5, None) → 5 5 5 5 5 5 5 5 5 5 5 5 5 5 5…\\n'"
            ],
            "application/vnd.google.colaboratory.intrinsic+json": {
              "type": "string"
            }
          },
          "metadata": {},
          "execution_count": 24
        }
      ],
      "source": [
        "'''\n",
        "Zadanie 2 (4 pkt)\n",
        "Zaimplementuj własny generator o nazwie repeat, zwracający obiekt podany przez użytkownika dokładnie N razy.\n",
        "Jeśli wartość parametru N nie została określona, generator powinien zwracać wartości w nieskończoność.\n",
        "\n",
        "PRZYKŁAD\n",
        "repeat(10, 3) → 10 10 10\n",
        "repeat(10, 5) → 10 10 10 10 10\n",
        "repeat(5) → 5 5 5 5 5 5 5 5 5 5 5 5 5 5 5…\n",
        "repeat(5, None) → 5 5 5 5 5 5 5 5 5 5 5 5 5 5 5…\n",
        "'''"
      ]
    },
    {
      "cell_type": "code",
      "source": [
        "def repeat(obj, N=None):\n",
        "    if N is None:\n",
        "        while True:\n",
        "            yield obj\n",
        "    else:\n",
        "        for i in range(N):\n",
        "            yield obj\n",
        "\n",
        "print(list(repeat(10, 3)))\n",
        "print(list(repeat(10, 5)))\n",
        "r=repeat(5)\n",
        "print(next(r))"
      ],
      "metadata": {
        "colab": {
          "base_uri": "https://localhost:8080/"
        },
        "id": "-1G7miTKt23S",
        "outputId": "c77bff4a-f17d-4a81-d1e7-53a9362efb95"
      },
      "execution_count": 1,
      "outputs": [
        {
          "output_type": "stream",
          "name": "stdout",
          "text": [
            "[10, 10, 10]\n",
            "[10, 10, 10, 10, 10]\n",
            "5\n"
          ]
        }
      ]
    },
    {
      "cell_type": "code",
      "execution_count": null,
      "metadata": {
        "id": "gChh80FsWzT7",
        "colab": {
          "base_uri": "https://localhost:8080/",
          "height": 53
        },
        "outputId": "1d45f705-72c7-46b7-d9f0-ee6ba199d050"
      },
      "outputs": [
        {
          "output_type": "execute_result",
          "data": {
            "text/plain": [
              "'\\nZadanie 3 (1 pkt)\\nW kodzie z zajęć w klasie Pojazd utwórz atrybut, który niezależnie od utworzonego obiektu będzie miał taką samą wartość.\\nkażdy obiekt ma mieć kolor biały\\n'"
            ],
            "application/vnd.google.colaboratory.intrinsic+json": {
              "type": "string"
            }
          },
          "metadata": {},
          "execution_count": 27
        }
      ],
      "source": [
        "'''\n",
        "Zadanie 3 (1 pkt)\n",
        "W kodzie z zajęć w klasie Pojazd utwórz atrybut, który niezależnie od utworzonego obiektu będzie miał taką samą wartość.\n",
        "każdy obiekt ma mieć kolor biały\n",
        "'''"
      ]
    },
    {
      "cell_type": "code",
      "source": [
        "class Pojazd:\n",
        "    kolor = \"biały\"\n",
        "\n",
        "    def __init__(self, predkosc_max, przebieg, model):\n",
        "        self.przebieg = przebieg\n",
        "        self.predkosc_max = predkosc_max\n",
        "        self.model = model\n",
        "\n",
        "class Autobus(Pojazd):\n",
        "    def liczba_miejsc(self, miejsca=50):\n",
        "        return super().liczba_miejsc(miejsca)\n",
        "\n",
        "pojazd1 = Pojazd(120, 200, \"Pojazd_1\")\n",
        "pojazd2 = Pojazd(240, 400, \"Pojazd_2\")\n",
        "autobus = Autobus(240, 400, \"Autobus\")\n",
        "\n",
        "print(pojazd1.kolor)\n",
        "print(pojazd2.kolor)\n",
        "print(autobus.kolor)"
      ],
      "metadata": {
        "colab": {
          "base_uri": "https://localhost:8080/"
        },
        "id": "EMIauzMLtxms",
        "outputId": "98de8450-8723-47a3-e7c7-5164be20e499"
      },
      "execution_count": 8,
      "outputs": [
        {
          "output_type": "stream",
          "name": "stdout",
          "text": [
            "biały\n",
            "biały\n",
            "biały\n"
          ]
        }
      ]
    },
    {
      "cell_type": "code",
      "execution_count": null,
      "metadata": {
        "id": "Q4Js_zjIXHZi",
        "colab": {
          "base_uri": "https://localhost:8080/",
          "height": 71
        },
        "outputId": "9945fcd3-d441-4c8d-ff5b-4f2e39c60e2f"
      },
      "outputs": [
        {
          "output_type": "execute_result",
          "data": {
            "text/plain": [
              "'\\nZadanie 4 (2 pkt)\\nWykorzystaj klasy Autobus i Pojazd.\\nZdefiniuj metodę opłata, k†óra będzie miała wartość domyślną liczba_miejsc * 100\\nJeżeli Pojazd jest instancją Autobusu, opłata ma zostać powiększona o 10% wartości opłaty początkowej.\\nNp. jeżeli autobus domyślnie ma 50 miejsc to opłata całkowita wyniesie 5500\\n'"
            ],
            "application/vnd.google.colaboratory.intrinsic+json": {
              "type": "string"
            }
          },
          "metadata": {},
          "execution_count": 29
        }
      ],
      "source": [
        "'''\n",
        "Zadanie 4 (2 pkt)\n",
        "Wykorzystaj klasy Autobus i Pojazd.\n",
        "Zdefiniuj metodę opłata, k†óra będzie miała wartość domyślną liczba_miejsc * 100\n",
        "Jeżeli Pojazd jest instancją Autobusu, opłata ma zostać powiększona o 10% wartości opłaty początkowej.\n",
        "Np. jeżeli autobus domyślnie ma 50 miejsc to opłata całkowita wyniesie 5500\n",
        "'''"
      ]
    },
    {
      "cell_type": "code",
      "source": [
        "class Pojazd:\n",
        "    def __init__(self, predkosc_max, przebieg, model):\n",
        "        self.przebieg = przebieg\n",
        "        self.predkosc_max = predkosc_max\n",
        "        self.model = model\n",
        "\n",
        "    def oplata(self, liczba_miejsc):\n",
        "        return liczba_miejsc * 100\n",
        "\n",
        "class Autobus(Pojazd):\n",
        "    def oplata(self, liczba_miejsc=50):\n",
        "        return  1.1 *  super().oplata(liczba_miejsc)\n",
        "\n",
        "pojazd = Pojazd(240, 400, \"Pojazd\")\n",
        "autobus = Autobus(240, 400, \"Autobus\")\n",
        "\n",
        "print(pojazd.oplata(50))\n",
        "print(autobus.oplata(50))"
      ],
      "metadata": {
        "colab": {
          "base_uri": "https://localhost:8080/"
        },
        "id": "Ju0CJoJ_tqa7",
        "outputId": "da193210-f47b-434c-ed57-f58cab4e479a"
      },
      "execution_count": 13,
      "outputs": [
        {
          "output_type": "stream",
          "name": "stdout",
          "text": [
            "5000\n",
            "5500.0\n"
          ]
        }
      ]
    },
    {
      "cell_type": "code",
      "execution_count": 14,
      "metadata": {
        "id": "BsdImsIAXXsu",
        "colab": {
          "base_uri": "https://localhost:8080/"
        },
        "outputId": "03975953-d221-40dd-8b5c-a020f511e3c7"
      },
      "outputs": [
        {
          "output_type": "stream",
          "name": "stdout",
          "text": [
            "2x^2+3x +1\n",
            "1\n",
            "6\n",
            "Nieskończenie wiele rozwiązań\n",
            "Brak rozwiązań\n",
            "Jedno rozwiązanie: x =-1.5\n",
            "Brak rozwiązań\n",
            "Dwa rozwiązania: x1 =3.0, x2 =2.0\n",
            "Jedno rozwiązanie: x =-2.0\n"
          ]
        }
      ],
      "source": [
        "'''\n",
        "Zadanie 5 (4 pkt)\n",
        "Napisz klasę FunkcjaKwadratowa, która przechowuje funkcje typu $ax^2$+bx+c.\n",
        "Klasa powinna zawierać trzy pola: a, b, c, które są przypisywane w konstruktorze.\n",
        "Główną metodą powinna być rozwiaz(), która zwraca miejsca zerowe podanej funkcji.\n",
        "Należy zwrócić uwagę na przypadki gdy a=0, b=0 lub c=0,\n",
        "a także obmyślić sposób informowania o nieskończonej liczbie, jednym lub zerze rozwiązań.\n",
        "'''\n",
        "\n",
        "'''\n",
        "początek kodu dla ułatwienia\n",
        "\n",
        "'''\n",
        "import math\n",
        "\n",
        "class FunkcjaKwadratowa:\n",
        "    def __init__(self, a, b, c):\n",
        "        self.a = a\n",
        "        self.b = b\n",
        "        self.c = c\n",
        "\n",
        "    def wypisz(self):\n",
        "        print(f\"{self.a}x^2+{self.b}x +{self.c}\")\n",
        "\n",
        "    def oblicz_wartosc(self, x):\n",
        "        return self.a* x**2+self.b*x+self.c\n",
        "\n",
        "    def rozwiaz(self):\n",
        "        if self.a==0:\n",
        "            if self.b==0:\n",
        "                if self.c==0:\n",
        "                    return \"Nieskończenie wiele rozwiązań\"\n",
        "                else:\n",
        "                    return \"Brak rozwiązań\"\n",
        "            else:\n",
        "                x1=-self.c/self.b\n",
        "                return f\"Jedno rozwiązanie: x ={x1}\"\n",
        "        else:\n",
        "            delta =self.b**2-4*self.a*self.c\n",
        "            if delta>0:\n",
        "                x1=(-self.b+math.sqrt(delta))/(2*self.a)\n",
        "                x2=(-self.b-math.sqrt(delta))/(2*self.a)\n",
        "                return f\"Dwa rozwiązania: x1 ={x1}, x2 ={x2}\"\n",
        "            elif delta==0:\n",
        "                x1=-self.b/(2*self.a)\n",
        "                return f\"Jedno rozwiązanie: x ={x1}\"\n",
        "            else:\n",
        "                return \"Brak rozwiązań\"\n",
        "\n",
        "def main():\n",
        "    f1 = FunkcjaKwadratowa(2, 3, 1)\n",
        "    f1.wypisz()\n",
        "    print(f1.oblicz_wartosc(0))\n",
        "    print(f1.oblicz_wartosc(1))\n",
        "\n",
        "    print(FunkcjaKwadratowa(0, 0, 0).rozwiaz())\n",
        "    print(FunkcjaKwadratowa(0, 0, 1).rozwiaz())\n",
        "    print(FunkcjaKwadratowa(0, 2, 3).rozwiaz())\n",
        "    print(FunkcjaKwadratowa(1, 2, 3).rozwiaz())\n",
        "    print(FunkcjaKwadratowa(1, -5, 6).rozwiaz())\n",
        "    print(FunkcjaKwadratowa(1, 4, 4).rozwiaz())\n",
        "\n",
        "if __name__ == \"__main__\":\n",
        "    main()"
      ]
    }
  ],
  "metadata": {
    "colab": {
      "provenance": []
    },
    "kernelspec": {
      "display_name": "Python 3",
      "name": "python3"
    },
    "language_info": {
      "codemirror_mode": {
        "name": "ipython",
        "version": 3
      },
      "file_extension": ".py",
      "mimetype": "text/x-python",
      "name": "python",
      "nbconvert_exporter": "python",
      "pygments_lexer": "ipython3",
      "version": "3.10.9"
    }
  },
  "nbformat": 4,
  "nbformat_minor": 0
}